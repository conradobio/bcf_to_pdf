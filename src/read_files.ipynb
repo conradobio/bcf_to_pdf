{
 "cells": [
  {
   "cell_type": "code",
   "execution_count": 1,
   "metadata": {},
   "outputs": [],
   "source": [
    "import os\n",
    "from zipfile import ZipFile\n",
    "import json"
   ]
  },
  {
   "attachments": {},
   "cell_type": "markdown",
   "metadata": {},
   "source": [
    "##### Reading bcf/zip file"
   ]
  },
  {
   "cell_type": "code",
   "execution_count": null,
   "metadata": {},
   "outputs": [],
   "source": [
    "# file_paths = []\n",
    "\n",
    "for root, directories, files in os.walk('../data/'):\n",
    "    print(directories)\n",
    "    for filename in root:\n",
    "        print(filename)\n",
    "        #filepath = os.path.join(root, filename)\n",
    "        #file_paths.append(filepath)"
   ]
  },
  {
   "cell_type": "code",
   "execution_count": 41,
   "metadata": {},
   "outputs": [],
   "source": [
    "dir_path = '../data/'"
   ]
  },
  {
   "cell_type": "code",
   "execution_count": 55,
   "metadata": {},
   "outputs": [
    {
     "name": "stdout",
     "output_type": "stream",
     "text": [
      "Smart-Tarumã-Arquitetura.bcf\n",
      "['Smart-Tarumã-Arquitetura', 'bcf']\n",
      "Smart-Tarumã-Arquitetura.bcf\n",
      "Smart-Tarumã-Arquitetura.zip\n",
      "test.json\n",
      "['test', 'json']\n",
      "teste -html.html\n",
      "['teste -html', 'html']\n",
      "tmp\n",
      "['tmp']\n",
      "VS3_-_Arquitetura.pdf\n",
      "['VS3_-_Arquitetura', 'pdf']\n"
     ]
    }
   ],
   "source": [
    "for file in os.listdir(dir_path):\n",
    "    list_files = file.split('.')\n",
    "    if len(list_files) > 1:\n",
    "        if 'bcf' not in file.split('.')[1]:\n",
    "            pass\n",
    "        else:\n",
    "            new_name = f\"{file.split('.')[0]}.zip\"\n",
    "            os.rename(f\"{dir_path}{file}\", f\"{dir_path}{new_name}\")\n"
   ]
  },
  {
   "cell_type": "code",
   "execution_count": 49,
   "metadata": {},
   "outputs": [],
   "source": [
    "root_dirs = set()\n",
    "with ZipFile(f'{dir_path}Smart-Tarumã-Arquitetura.zip', 'r') as zip:\n",
    "    # save directory names inside zip\n",
    "    for filename in zip.namelist():\n",
    "        r_dir = filename.split('/')\n",
    "        r_dir = r_dir[0]\n",
    "        root_dirs.add(r_dir)\n",
    "    \n",
    "    # create a directory for each folder inside zip file\n",
    "    for filename in zip.namelist():\n",
    "        for dirs in list(root_dirs):\n",
    "            path_dir = f'../data/tmp/{dirs}'\n",
    "            if dirs in filename and not os.path.isdir(path_dir) and 'bcf.version' not in filename:\n",
    "                os.mkdir(path_dir)\n",
    "            if dirs in filename and 'bcf.version' not in filename:\n",
    "                zip.extract(filename, path_dir)"
   ]
  },
  {
   "attachments": {},
   "cell_type": "markdown",
   "metadata": {},
   "source": [
    "##### Reading XML file"
   ]
  },
  {
   "cell_type": "code",
   "execution_count": 2,
   "metadata": {},
   "outputs": [],
   "source": [
    "import xml.dom.minidom"
   ]
  },
  {
   "cell_type": "code",
   "execution_count": 3,
   "metadata": {},
   "outputs": [],
   "source": [
    "file_paths = []\n",
    "\n",
    "for root, directories, files in os.walk('../data/tmp'):\n",
    "    for filename in files:\n",
    "        if filename.endswith('.bcf'):\n",
    "            filepath = os.path.join(root, filename)\n",
    "            file_paths.append(filepath)"
   ]
  },
  {
   "cell_type": "code",
   "execution_count": 18,
   "metadata": {},
   "outputs": [
    {
     "data": {
      "text/plain": [
       "'00233766-3e2b-4622-a7f8-434a608adfed'"
      ]
     },
     "execution_count": 18,
     "metadata": {},
     "output_type": "execute_result"
    }
   ],
   "source": [
    "file_paths[0].split('\\\\')[1]"
   ]
  },
  {
   "cell_type": "code",
   "execution_count": 13,
   "metadata": {},
   "outputs": [],
   "source": [
    "BCF_FILE_NAME = 'Smart-Tarumã-Arquitetura.zip'"
   ]
  },
  {
   "cell_type": "code",
   "execution_count": 19,
   "metadata": {},
   "outputs": [],
   "source": [
    "root_path = f'C:/Users/cbio/Documents/repos/autodoc/autodoc/project 10 - projetos/data/{BCF_FILE_NAME.split(\".\")[0]}/'\n",
    "foto_path_1 = file_paths[0].split('\\\\')[1]\n",
    "foto_path = f'{root_path}{foto_path_1}/{foto_path_1}/'"
   ]
  },
  {
   "cell_type": "code",
   "execution_count": 20,
   "metadata": {},
   "outputs": [
    {
     "data": {
      "text/plain": [
       "'C:/Users/cbio/Documents/repos/autodoc/autodoc/project 10 - projetos/data/Smart-Tarumã-Arquitetura/00233766-3e2b-4622-a7f8-434a608adfed/00233766-3e2b-4622-a7f8-434a608adfed/'"
      ]
     },
     "execution_count": 20,
     "metadata": {},
     "output_type": "execute_result"
    }
   ],
   "source": [
    "foto_path"
   ]
  },
  {
   "cell_type": "code",
   "execution_count": 15,
   "metadata": {},
   "outputs": [
    {
     "data": {
      "text/plain": [
       "'00233766-3e2b-4622-a7f8-434a608adfed'"
      ]
     },
     "execution_count": 15,
     "metadata": {},
     "output_type": "execute_result"
    }
   ],
   "source": [
    "file_paths[0].split('\\\\')[1]"
   ]
  },
  {
   "cell_type": "code",
   "execution_count": 8,
   "metadata": {},
   "outputs": [],
   "source": [
    "xml_doc = xml.dom.minidom.parse(file_paths[0])"
   ]
  },
  {
   "cell_type": "code",
   "execution_count": 9,
   "metadata": {},
   "outputs": [],
   "source": [
    "#headers = xml_doc.getElementsByTagName('Header')\n",
    "\n",
    "#headers_list = []\n",
    "# for header in headers:\n",
    "#     file = header.getAttribute('IfcProject')\n",
    "#     filename = header.getElementsByTagName('Filename')[0].childNodes[0].data\n",
    "#     date = header.getElementsByTagName('Date')[0].childNodes[0].data\n",
    "\n",
    "#     headers_list = {hash_bcf: {'file':file, 'filename':filename, 'date':date}}"
   ]
  },
  {
   "cell_type": "code",
   "execution_count": 8,
   "metadata": {},
   "outputs": [],
   "source": [
    "def get_xml_topic_element(xml_doc):\n",
    "    topics = xml_doc.getElementsByTagName('Topic')\n",
    "\n",
    "    for topic in topics:\n",
    "        guid = topic.getAttribute('Guid')\n",
    "        type = topic.getAttribute('TopicType')\n",
    "        status = topic.getAttribute('TopicStatus')\n",
    "        prioridade = topic.getElementsByTagName('Priority')[0].childNodes[0].data\n",
    "        title = topic.getElementsByTagName('Title')[0].childNodes[0].data\n",
    "        index = topic.getElementsByTagName('Index')[0].childNodes[0].data\n",
    "        labels = topic.getElementsByTagName('Labels')[0].childNodes[0].data\n",
    "        creationdate = topic.getElementsByTagName('CreationDate')[0].childNodes[0].data\n",
    "        creationauthor = topic.getElementsByTagName('CreationAuthor')[0].childNodes[0].data\n",
    "        modifieddate = topic.getElementsByTagName('ModifiedDate')[0].childNodes[0].data\n",
    "        modifiedauthor = topic.getElementsByTagName('ModifiedAuthor')[0].childNodes[0].data\n",
    "        duedate = topic.getElementsByTagName('DueDate')[0].childNodes[0].data\n",
    "        assignedto = topic.getElementsByTagName('AssignedTo')[0].childNodes[0].data\n",
    "        stage = topic.getElementsByTagName('Stage')[0].childNodes[0].data\n",
    "        description = topic.getElementsByTagName('Description')[0].childNodes[0].data\n",
    "\n",
    "        topic_dict = {'codigo':guid, 'titulo':title, 'status':status,  \n",
    "                                'descricao':description, 'tipo':type, 'fase': stage,\n",
    "                                'prioridade':prioridade, 'abertura':creationdate, 'categoria': None,\n",
    "                                'disciplinas_resp':labels, 'vencimento': duedate, \n",
    "                                'sub_categoria': None, 'usuarios_resp':assignedto,\n",
    "                                'autor':creationauthor, 'local': None\n",
    "                                }\n",
    "    return topic_dict"
   ]
  },
  {
   "cell_type": "code",
   "execution_count": 9,
   "metadata": {},
   "outputs": [],
   "source": [
    "topic_dict = get_xml_topic_element(xml_doc)"
   ]
  },
  {
   "cell_type": "code",
   "execution_count": 10,
   "metadata": {},
   "outputs": [],
   "source": [
    "images = xml_doc.getElementsByTagName('Viewpoints')\n",
    "\n",
    "image_dict = {}\n",
    "for i, image in enumerate(images):\n",
    "    guid = image.getAttribute('Guid')\n",
    "    foto = image.getElementsByTagName('Snapshot')[0].childNodes[0].data\n",
    "    image_dict[f'im_{i}'] = {'guid': guid,'foto': foto}"
   ]
  },
  {
   "cell_type": "code",
   "execution_count": 11,
   "metadata": {},
   "outputs": [
    {
     "data": {
      "text/plain": [
       "'f9b9c60f-e04a-4656-ab36-db4f8d4cca68_snapshot.png'"
      ]
     },
     "execution_count": 11,
     "metadata": {},
     "output_type": "execute_result"
    }
   ],
   "source": [
    "foto"
   ]
  },
  {
   "cell_type": "code",
   "execution_count": 94,
   "metadata": {},
   "outputs": [],
   "source": [
    "comments = xml_doc.getElementsByTagName('Comment')\n",
    "\n",
    "comment_lst = []\n",
    "for num, comment in enumerate(comments):\n",
    "    if len(comment.getAttribute('Guid')) > 1:\n",
    "        guid = comment.getAttribute('Guid')\n",
    "        date = comment.getElementsByTagName('Date')[0].childNodes[0].data\n",
    "        autor = comment.getElementsByTagName('Author')[0].childNodes[0].data\n",
    "        b = comment.getElementsByTagName('Comment')\n",
    "        for i in b:\n",
    "            if len(i.childNodes) > 0:\n",
    "                cmts = i.childNodes[0].data\n",
    "            else:\n",
    "                cmts = 'sem comentários'\n",
    "        modautor = comment.getElementsByTagName('ModifiedAuthor')[0].childNodes[0].data\n",
    "        \n",
    "        comment_lst.append(dict(guid=guid, descricao=cmts, data_acao=date, \n",
    "                    novo_autor=autor,  realizado_por= modautor))"
   ]
  },
  {
   "cell_type": "code",
   "execution_count": 99,
   "metadata": {},
   "outputs": [],
   "source": [
    "main_dict = {**topic_dict, **image_dict}"
   ]
  },
  {
   "cell_type": "code",
   "execution_count": 100,
   "metadata": {},
   "outputs": [],
   "source": [
    "main_dict.update({'comentarios':comment_lst})"
   ]
  },
  {
   "cell_type": "code",
   "execution_count": 102,
   "metadata": {},
   "outputs": [
    {
     "data": {
      "text/plain": [
       "[{'guid': '622010e5-f59a-4386-ab85-7beb65a5ec27',\n",
       "  'descricao': 'Visto na R01 que foi incluido o revestimento',\n",
       "  'data_acao': '2021-10-28T19:25:36+00:00',\n",
       "  'novo_autor': 'coordenacao@chaconengenharia.com',\n",
       "  'realizado_por': 'coordenacao@chaconengenharia.com'},\n",
       " {'guid': '2f6558b4-2519-4b04-a464-40cec1a59890',\n",
       "  'descricao': 'Revestimento adicionado',\n",
       "  'data_acao': '2021-10-11T16:01:37+00:00',\n",
       "  'novo_autor': 'bruno@chaconengenharia.com',\n",
       "  'realizado_por': 'bruno@chaconengenharia.com'},\n",
       " {'guid': 'cbef2e0e-3f4a-4cd2-8d5a-c2e2a7740eca',\n",
       "  'descricao': 'sem comentários',\n",
       "  'data_acao': '2021-09-21T15:47:29+00:00',\n",
       "  'novo_autor': 'coordenacao@chaconengenharia.com',\n",
       "  'realizado_por': 'coordenacao@chaconengenharia.com'}]"
      ]
     },
     "execution_count": 102,
     "metadata": {},
     "output_type": "execute_result"
    }
   ],
   "source": [
    "main_dict['comentarios']"
   ]
  },
  {
   "cell_type": "code",
   "execution_count": 82,
   "metadata": {},
   "outputs": [],
   "source": [
    "with open('../data/test.json', 'w') as f:\n",
    "    json.dump(main_dict, f, indent=4)"
   ]
  },
  {
   "attachments": {},
   "cell_type": "markdown",
   "metadata": {},
   "source": [
    "##### Merge pdf"
   ]
  },
  {
   "cell_type": "code",
   "execution_count": 21,
   "metadata": {},
   "outputs": [],
   "source": [
    "from pypdf import PdfMerger\n",
    "\n",
    "pdf_files = []\n",
    "for root, directories, files in os.walk('../data/Smart-Tarumã-Arquitetura/pdf'):\n",
    "    for filename in files:\n",
    "        pdf_files.append(f'../data/Smart-Tarumã-Arquitetura/pdf/{filename}')\n",
    "\n",
    "merger = PdfMerger()"
   ]
  },
  {
   "cell_type": "code",
   "execution_count": 28,
   "metadata": {},
   "outputs": [],
   "source": []
  },
  {
   "cell_type": "code",
   "execution_count": 29,
   "metadata": {},
   "outputs": [],
   "source": []
  },
  {
   "cell_type": "code",
   "execution_count": 30,
   "metadata": {},
   "outputs": [],
   "source": [
    "for pdf in pdf_files:\n",
    "    merger.append(pdf)"
   ]
  },
  {
   "cell_type": "code",
   "execution_count": 31,
   "metadata": {},
   "outputs": [],
   "source": [
    "merger.write(\"../data/Smart-Tarumã-Arquitetura/result.pdf\")"
   ]
  },
  {
   "cell_type": "code",
   "execution_count": null,
   "metadata": {},
   "outputs": [],
   "source": []
  }
 ],
 "metadata": {
  "kernelspec": {
   "display_name": ".venv",
   "language": "python",
   "name": "python3"
  },
  "language_info": {
   "codemirror_mode": {
    "name": "ipython",
    "version": 3
   },
   "file_extension": ".py",
   "mimetype": "text/x-python",
   "name": "python",
   "nbconvert_exporter": "python",
   "pygments_lexer": "ipython3",
   "version": "3.10.11"
  },
  "orig_nbformat": 4
 },
 "nbformat": 4,
 "nbformat_minor": 2
}
